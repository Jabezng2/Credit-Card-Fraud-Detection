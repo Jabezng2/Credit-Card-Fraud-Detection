{
  "cells": [
    {
      "cell_type": "markdown",
      "metadata": {
        "id": "view-in-github",
        "colab_type": "text"
      },
      "source": [
        "<a href=\"https://colab.research.google.com/github/Jabezng2/Credit-Card-Fraud-Detection/blob/main/Assignment1/Sc3000_Lab1.ipynb\" target=\"_parent\"><img src=\"https://colab.research.google.com/assets/colab-badge.svg\" alt=\"Open In Colab\"/></a>"
      ]
    },
    {
      "cell_type": "markdown",
      "source": [
        "<h1>SC3000 Lab Assignment 1: \"Balancing a pole on a cart\"<h1>\n",
        "\n",
        "\n"
      ],
      "metadata": {
        "id": "BQ3s2c7GT-C7"
      }
    },
    {
      "cell_type": "markdown",
      "source": [
        "## Team Contribution (A33)"
      ],
      "metadata": {
        "id": "DRUzv4VXRZJO"
      }
    },
    {
      "cell_type": "markdown",
      "source": [
        "|<h4>Name</h4>|<h4>Matriculation Number</h4>|<h4>Contribution</h4>|\n",
        "|:-|:-:|:-|\n",
        "|<h4>Lim Jun Hern</h4> |<h4>U2120981B</h4>| <ul><li>Debugging and testing</li><p></p><li>Optimize and improve the code structure</li><p></p><li>Create and refine explanations for each block</li><ul>     \n",
        "|<h4>Jabez Ng Yong Xin</h4> |<h4>U2120757D</h4>| <ul><li>Create and Digitalize Simulation Function</li><p></p><li>Optimize Performance by finetuning parameters</li><p></p><li>Create and refine explanations for each block</li></ul>\n",
        "|<h4>Leong Hong Yi</h4>|<h4>U2120932C</h4>| <ul><li>Implement Q-Learning Algorithm</li><p></p><li>Optimize Performance by finetuning parameters</li><p></p><li>Create and refine explanations for each block</li><ul>\n",
        "\n"
      ],
      "metadata": {
        "id": "TZx6QWrIH0-w"
      }
    },
    {
      "cell_type": "markdown",
      "metadata": {
        "id": "wuHGgVlDIUHv"
      },
      "source": [
        "<div><h2>Installing Dependencies:</h2></div>"
      ]
    },
    {
      "cell_type": "code",
      "execution_count": 16,
      "metadata": {
        "colab": {
          "base_uri": "https://localhost:8080/"
        },
        "id": "aZHuzLOUH_LS",
        "outputId": "43b13ab5-128c-4bd7-a50c-13916ed6a2f0"
      },
      "outputs": [
        {
          "output_type": "stream",
          "name": "stdout",
          "text": [
            "Looking in indexes: https://pypi.org/simple, https://us-python.pkg.dev/colab-wheels/public/simple/\n",
            "Requirement already satisfied: gym[classic_control] in /usr/local/lib/python3.9/dist-packages (0.25.2)\n",
            "Requirement already satisfied: numpy>=1.18.0 in /usr/local/lib/python3.9/dist-packages (from gym[classic_control]) (1.24.2)\n",
            "Requirement already satisfied: gym-notices>=0.0.4 in /usr/local/lib/python3.9/dist-packages (from gym[classic_control]) (0.0.8)\n",
            "Requirement already satisfied: cloudpickle>=1.2.0 in /usr/local/lib/python3.9/dist-packages (from gym[classic_control]) (2.2.1)\n",
            "Requirement already satisfied: importlib-metadata>=4.8.0 in /usr/local/lib/python3.9/dist-packages (from gym[classic_control]) (6.0.0)\n",
            "Requirement already satisfied: pygame==2.1.0 in /usr/local/lib/python3.9/dist-packages (from gym[classic_control]) (2.1.0)\n",
            "Requirement already satisfied: zipp>=0.5 in /usr/local/lib/python3.9/dist-packages (from importlib-metadata>=4.8.0->gym[classic_control]) (3.15.0)\n",
            "Looking in indexes: https://pypi.org/simple, https://us-python.pkg.dev/colab-wheels/public/simple/\n",
            "Requirement already satisfied: setuptools in /usr/local/lib/python3.9/dist-packages (67.6.0)\n"
          ]
        }
      ],
      "source": [
        "!apt-get install -y xvfb python-opengl > /dev/null 2>&1\n",
        "!pip install gym pyvirtualdisplay > /dev/null 2>&1\n",
        "!pip install gym pyvirtualdisplay > /dev/null 2>&1\n",
        "!apt-get install -y xvfb python-opengl ffmpeg > /dev/null 2>&1\n",
        "!pip install gym[classic_control]\n",
        "!apt-get update > /dev/null 2>&1\n",
        "!apt-get install cmake > /dev/null 2>&1\n",
        "!pip install --upgrade setuptools 2>&1\n",
        "!pip install ez_setup > /dev/null 2>&1"
      ]
    },
    {
      "cell_type": "markdown",
      "metadata": {
        "id": "gGRN1hnWIjqk"
      },
      "source": [
        "## Importing dependencies and define helper functions"
      ]
    },
    {
      "cell_type": "code",
      "execution_count": 17,
      "metadata": {
        "id": "viO62FA-IlRf"
      },
      "outputs": [],
      "source": [
        "import gym\n",
        "from gym import logger as gymlogger\n",
        "from gym.wrappers import RecordVideo\n",
        "gymlogger.set_level(40) #error only\n",
        "import tensorflow as tf\n",
        "import numpy as np\n",
        "import pandas as pd\n",
        "import random\n",
        "import matplotlib\n",
        "import matplotlib.pyplot as plt\n",
        "%matplotlib inline\n",
        "import math\n",
        "import glob\n",
        "import io\n",
        "import base64\n",
        "from IPython.display import HTML\n",
        "from IPython import display as ipythondisplay\n",
        "\n",
        "def show_video():\n",
        "  mp4list = glob.glob('video/*.mp4')\n",
        "  if len(mp4list) > 0:\n",
        "    mp4 = mp4list[0]\n",
        "    video = io.open(mp4, 'r+b').read()\n",
        "    encoded = base64.b64encode(video)\n",
        "    ipythondisplay.display(HTML(data='''<video alt=\"test\" autoplay \n",
        "                loop controls style=\"height: 400px;\">\n",
        "                <source src=\"data:video/mp4;base64,{0}\" type=\"video/mp4\" />\n",
        "             </video>'''.format(encoded.decode('ascii'))))\n",
        "  else: \n",
        "    print(\"Could not find video\")"
      ]
    },
    {
      "cell_type": "markdown",
      "metadata": {
        "id": "kSaee0cfIqpg"
      },
      "source": [
        "##Loading CartPole environment"
      ]
    },
    {
      "cell_type": "code",
      "execution_count": 18,
      "metadata": {
        "id": "gCY_qyXyIvee"
      },
      "outputs": [],
      "source": [
        "env = gym.make(\"CartPole-v1\")"
      ]
    },
    {
      "cell_type": "markdown",
      "metadata": {
        "id": "QLuLhSopI4N3"
      },
      "source": [
        "<div class=\"alert alert-block alert-info\"><h2>Task 1: Development of an Rl agent</h2></div>\n"
      ]
    },
    {
      "cell_type": "markdown",
      "metadata": {
        "id": "T96vl09iFat-"
      },
      "source": [
        "***Epilson Greedy Q-Learning Algorithm*** will be utilised which essentially selects the action with the highest estimated reward most of the time. It aims to achieve a balance between ***exploration (randomness -> epsilon)*** and ***exploitation (maximisation -> greedy)***. \n"
      ]
    },
    {
      "cell_type": "markdown",
      "metadata": {
        "id": "Y-xfbYzVKLBs"
      },
      "source": [
        "###**1. Q-Table Initialisation**\n",
        "Arbitratily initialise the Q-Table.\n",
        "<br><br>\n",
        "After numerous attempts, we define the ***lower limit*** and ***upper limit*** for both **Cart Velocity** and **Pole Angular Velocity** to be **-4** and **4** respectively, because if the velocity is too high, the pole is likely to fall."
      ]
    },
    {
      "cell_type": "code",
      "execution_count": 19,
      "metadata": {
        "id": "PvxDfTHOE-II"
      },
      "outputs": [],
      "source": [
        "def Qtable(stateSpace, actionSpace, binSize):\n",
        "    \n",
        "  #bin = number of possible states per catagory\n",
        "  #np.linspace(start, end, num), create array with Num elements with equal interval between start to end\n",
        "       \n",
        "  bin = [np.linspace(-4.8, 4.8, binSize), # Cart Position Observation Space\n",
        "            np.linspace(-4, 4, binSize), # Cart Velocity Observation Space\n",
        "            np.linspace(-0.418, 0.418, binSize), # Pole Angle Observation Space\n",
        "            np.linspace(-4, 4, binSize)] # Pole Angular Velocity Observation Space\n",
        "\n",
        "  # Initialise Qtable\n",
        "  # np.random.uniform is used to obtain random values from a uniform distribution between -1 and 1  \n",
        "  qTable = np.random.uniform(-1, 1, ([binSize] * stateSpace + [actionSpace])) # 5d array\n",
        "  return qTable, bin"
      ]
    },
    {
      "cell_type": "markdown",
      "metadata": {
        "id": "J8YuZGeRKso9"
      },
      "source": [
        "###**2. Discretisation Function**\n",
        "We require our states to be in ***discrete*** format so that we can plug them into our Q-learning algorithm, i.e. access the table in the form of index, starting from 0. Thus, a discretisation function is implemented for this purpose."
      ]
    },
    {
      "cell_type": "code",
      "source": [
        "from google.colab import drive\n",
        "drive.mount('/content/drive')"
      ],
      "metadata": {
        "colab": {
          "base_uri": "https://localhost:8080/"
        },
        "id": "tg1Hu43aTDEo",
        "outputId": "75781627-26ad-4901-8b87-100e7dcc0578"
      },
      "execution_count": 20,
      "outputs": [
        {
          "output_type": "stream",
          "name": "stdout",
          "text": [
            "Drive already mounted at /content/drive; to attempt to forcibly remount, call drive.mount(\"/content/drive\", force_remount=True).\n"
          ]
        }
      ]
    },
    {
      "cell_type": "code",
      "execution_count": 21,
      "metadata": {
        "id": "9vOK1A1XI-54"
      },
      "outputs": [],
      "source": [
        "def Discrete(state, bins):\n",
        "    digitizedArray = []\n",
        "    for i in range(len(state)): digitizedArray.append(np.digitize(state[i], bins[i]) - 1) # digitize into diff \"segments\", -1 to let it start from 0\n",
        "    return tuple(digitizedArray)"
      ]
    },
    {
      "cell_type": "markdown",
      "metadata": {
        "id": "pOxWjBUEWDc2"
      },
      "source": [
        "###**3. Epsilon-Greedy Q-Learning Algorithm**\n",
        "$$\\underbrace{Q_{new}(S_{t},A_{t})}_{\\scriptstyle\\text{New Estimation}}=Q_{old}(S_{t},A_{t})+\\mkern-34mu\\underset{\\text{Learning rate}}{\\underset{\\Bigl|}{\\alpha}}\\mkern-30mu[\\underbrace{R_{t+1}}_{\\scriptstyle\\text{Reward}}+\\mkern-30mu\\underset{\\text{Discount rate}}{\\underset{\\Biggl|}{\\gamma}}\\mkern-75mu\\overbrace{\\max Q_{old}(S_{t+1},a)}^{\\scriptstyle\\substack{\\text{Maximum predicted reward, given new state}}}\\mkern-45mu-Q_{old}(S_{t},A_{t})]$$\n",
        "\n",
        "Reference: Lecture notes from Module 5"
      ]
    },
    {
      "cell_type": "markdown",
      "source": [
        "### ***3.1. Q-Table***\n",
        "We create and fill a table (Q-table / Q) storing state-action pairs. Using the above formula, possible values of state-action pairs are calculated iteratively. This formula is called the action-value function / Q-function. The function approximates the value of selecting a certain action in a certain state. In this case, Q is the action value function learned by the algorithm. Q approximates the optimal action-value function Q*. In the implementation above for Q-table initialisation, we create a Q-table containing arbitrary values. \n",
        "\n",
        "### ***3.2. For each step in each episode, calculate Q-value and update Q-table***\n",
        "In the QLearning function defined below, we then proceed by following all the steps of episodes. In each step, we select an action A from Q-table Q. Episilon-Greedy selection is applied here which will be elaborated in the following section. As we take action A, our state changes from S to S' and we obtain a reward R. We then utilise these values to update our Q-table entry. This process is repeated till we have iterated through all the episodes defined (30,000)\n",
        "\n",
        "### ***3.3. Epsilon-Greedy Action Selection***\n",
        "The epsilon-greedy approach selects the action with the highest estimated reward most of the time. The aim is to strike a balance between exploration and exploitation. Exploration allows us to have some room to try new things (sometimes contradicting what we have already learned) The epsilon value controls the degree of exploration i.e larger epsilon value, higher degree of exploration while smaller epsilon value, lower degree of exploration. In the implementation, the optimal action (action with highest Q-value) is usually selected, else the algorithm explores a random action.\n",
        "\n",
        "### ***3.4. Why Epsilon-Greedy?***\n",
        "The epsilon-greedy algorithm is easy to understand and implement, yet it is hard to beat and works as well as more sophisticated algorithms. \n",
        "\n",
        "Reference: https://www.baeldung.com/cs/epsilon-greedy-q-learning\n",
        "\n",
        "### ***3.5. Epsilon-Decay***\n",
        "This method involves decaying the value of epsilon across the life of an agent to have it learn and act optimally eventually. We can do this by setting the initial epsilon value to 1, and multiplying the epsilon value by a real value (0 < decay_value < 1). This results in a gradual decay in epsilon with more and more episodes. However, after multiple rounds of testing, although epsilon-decay gives us a more stable reward accross multiple attempts, it has not shown to be useful in improving the reward score and we have decided to exclude it from the algorithm.\n",
        "\n",
        "Reference: https://aakash94.github.io/Reward-Based-Epsilon-Decay/\n",
        "\n",
        "### ***3.6. Penalty Function*** ###\n",
        "As our goal for the cart in an episode is to reach the cumulative score as close to 500 as possible, we introduce a ***Penalty function*** instead of pure Reward method in our Q learning algorithm such that whenever the agent makes a mistake, it will receive a penalty. In this context, we penalize ***(negative reward)*** the machine at the state which a bad move was taken, leading to the ***termination state with score lower than 450***. This way, we can better guide our goal-based agent's learning process closer to achieving higher total cumulative score during implementation.\n",
        "\n",
        "### ***3.7. How did we select the values for parameters?*** ###\n",
        "We've experimented with different values for ***the number of episodes***, range for ***cart velocity*** and ***pole angular velocity***, ***epsilon value*** as well as ***bin value***.\n",
        "\n",
        "Among all ***the number of episodes*** that we've tried, ranging from *10000* to *100000*, we've decided to choose **30000**, where the outcome is sufficiently good and the time taken to train the algorithm is not too long.\n",
        "\n",
        "Instead of using the value given in the lecture, we noticed that by slightly reducing the ***epsilon value*** to **0.15**, we will able to achieve a higher total reward across all episodes.\n",
        "\n",
        "Other than that, we've tried different ***bin values***, ranging from *15* to *80*. However, **30** seems to give us the optimal value most of the time. When the ***bin value*** is low, the model's accuracy is reduced due to the continuous nature of state values; when the ***bin value*** is high, we have to increase the number of episodes to maintain a good result since there are more entries in the Q table, which is not feasible due to the extended time required to complete the process.\n",
        "\n",
        "Furthermore, for the values in our Penalty Function, we tried several ***penalty values*** and found out that ***-1e6*** gives the best result as it does not over or under penalize our machine whenever a mistake action was taken. As for the ***treshold score***, after discussions and attempts, ***450*** is found most reasonable so our agent is neither too bias in achieving perfect scores every time nor achieving low scores due to randomness of ***epsilon value***"
      ],
      "metadata": {
        "id": "FIe5gayqGWOl"
      }
    },
    {
      "cell_type": "code",
      "execution_count": 22,
      "metadata": {
        "id": "X-3klmoeJA7_"
      },
      "outputs": [],
      "source": [
        "def QLearning(Qtable, bins):\n",
        "  totalEpisodes = 30000\n",
        "\n",
        "  # Discount Factor (gamma) reflects the importance of immediate vs future rewards\n",
        "  gamma = 0.95\n",
        "\n",
        "  # Learning Rate (lr) is the size of the step we take in adjusting our actions\n",
        "  lr = 0.1\n",
        "\n",
        "  # Epsilon here is associated with how random the decision is\n",
        "  epsilon = 0.15\n",
        "\n",
        "  # The epsilon value is decaying, eventually the policy will be stabilized\n",
        "  # epsilon_decay_value = 0.9996\n",
        "    \n",
        "  for episode in range(0, totalEpisodes): # run for XXXXXX times\n",
        "    currentState = Discrete(env.reset(), bins)\n",
        "\n",
        "    score = 0 #Score stores the total rewards in each episode \n",
        "    done = False\n",
        "    while not done:\n",
        "      if np.random.uniform(0, 1) < epsilon: # (< epsilon) Exploration: some random action\n",
        "        action = env.action_space.sample()\n",
        "      else: # (> epsilon) Exploitation: finding the largest reward\n",
        "        action = np.argmax(Qtable[currentState]) # Choose the action(indicated by index) of Qtable[currentState], Qtable[currentState] is a 1D array with 2 elements (which are the Q Value of taking action 0 or 1 at that state respectively)\n",
        "\n",
        "      observation, reward, done, info = env.step(action) # done = true, means the entire episode is complete; else episode is incomplete\n",
        "      nextState = Discrete(observation, bins) # Discritize the nextState\n",
        "      \n",
        "      score += reward #Add the reward to the cumulative reward score\n",
        "\t\t\n",
        "      if (done and score < 450) or not done: #If the entire episode is not finished or the episode ends too early\n",
        "        maxFutureQ = np.max(Qtable[nextState]) #Obtain the maximum Q-value for next state among different actions\n",
        "        currentQ = Qtable[currentState + (action,)] #Obtain the current Q-value\n",
        "        \n",
        "        if (done and score < 450): #Penalise if ends earlier without achieving satisfactory reward\n",
        "          reward = -1e6\n",
        "\n",
        "        newQ = currentQ + lr * (reward + gamma * maxFutureQ - currentQ) #Calculate the new Q-value\n",
        "        Qtable[currentState + (action,)] = newQ #Update the Q-value, by accessing table using tuple of 5 items\n",
        "        currentState = nextState #Update the state\n",
        "\n",
        "    #Printing function to better understand the training process\n",
        "    if (episode % 1000 == 0 and episode >= 5000):\n",
        "      print(\"Reward of\", episode, \"is :\", score)\n",
        "\n",
        "    # Epsilon value starts to decay after 5000 episode, and we let the minimum value of epsilon be 0.10\n",
        "    # if epsilon > 0.10: \n",
        "      # if episode > 5000:\n",
        "        # epsilon = math.pow(epsilon_decay_value, episode - 5000)\n",
        "  "
      ]
    },
    {
      "cell_type": "markdown",
      "metadata": {
        "id": "4O-3NH9WwLW5"
      },
      "source": [
        "###**4. Functions to save Q-table**\n",
        "Despite performing 20 attempts using the parameters above, which took us around 4 hours, we managed to obtain good results most of the time (***average rewards > 470***) using our agent. \n",
        "<br><br>However, there were 2 attempts where the result was relatively low (***average rewards ~ 400***), possibly due to the element of randomness in our agent. \n",
        "<br><br>\n",
        "To ensure consistency and prevent the lengthy training phase, instead of training the agent using more episodes everytime we run the algorithm, we decided to store the optimal Q-table we tried, using the function below.\n"
      ]
    },
    {
      "cell_type": "code",
      "execution_count": 23,
      "metadata": {
        "id": "yWxMxXSHPKd8"
      },
      "outputs": [],
      "source": [
        "def SaveQTable(tqt): #Function to store the Q-table in 'QTable_1'\n",
        "  np.save('QTable_1', tqt)\n",
        "  \n",
        "def SaveBin(tb):  #Function to store the bin table in 'Bin_1'\n",
        "  np.save('Bin_1', tb)"
      ]
    },
    {
      "cell_type": "markdown",
      "metadata": {
        "id": "T6YuKPhdJdRU"
      },
      "source": [
        "### **5. Training Phase**\n",
        "We created a Q-table for the algorithm to store the Q-values, and run the algorithm. \n",
        "<br><br>\n",
        "If the Q-table already exist, we will simply fetch the Q-table without retraining the agent again; else, we train the Q-table"
      ]
    },
    {
      "cell_type": "code",
      "execution_count": 24,
      "metadata": {
        "id": "Td5J-RLOJe9k"
      },
      "outputs": [],
      "source": [
        "import os.path\n",
        "\n",
        "# Check if data exists (Return True or False)\n",
        "bin_exists = os.path.exists('Bin_1.npy')\n",
        "qtable_exists = os.path.exists('QTable_1.npy')\n",
        "\n",
        "if bin_exists and qtable_exists:\n",
        "  # If data exists then run Q-Learning algorithm using the data saved\n",
        "  tb = np.load('Bin_1.npy') # Retrieve the Bin table from Bin_1.npy\n",
        "  tqt = np.load('QTable_1.npy') # Retrieve the QTable from QTable.npy\n",
        "\n",
        "else:\n",
        "  # If data doesn't exists then generate Q-table and save the respective data\n",
        "  tqt, tb = Qtable(4, 2, 30) #Randomly generate QTable and binTable\n",
        "  QLearning(tqt, tb) # Train the agent\n",
        "  SaveQTable(tqt) # Save QTable after training\n",
        "  SaveBin(tb) # Save Bin table after training"
      ]
    },
    {
      "cell_type": "markdown",
      "source": [
        "###**6. Demonstrate correctness**\n",
        "We demonstrate the correctness of the agent by sampling a random state from the cart pole environment, inputting to the agent, and outputting a chosen action. The values of state and chosen action is printed in the form of a 1D array with the index ([0],[1]) as the actions and the corresponding values as the Q-values of the action-state. "
      ],
      "metadata": {
        "id": "rEPT5NPGxjaQ"
      }
    },
    {
      "cell_type": "code",
      "execution_count": 25,
      "metadata": {
        "id": "5q46lqxU3xu6",
        "colab": {
          "base_uri": "https://localhost:8080/"
        },
        "outputId": "66aabcd2-22e2-4105-e77b-0b7c91fa4547"
      },
      "outputs": [
        {
          "output_type": "stream",
          "name": "stdout",
          "text": [
            "Observation: [ 0.03736767 -0.02797996 -0.0497688  -0.00333411]\n",
            "Chosen action: 0\n"
          ]
        },
        {
          "output_type": "execute_result",
          "data": {
            "text/plain": [
              "array([19.95307725, 19.89646663])"
            ]
          },
          "metadata": {},
          "execution_count": 25
        }
      ],
      "source": [
        "observation = env.reset() #Reset the environment and obtain the state\n",
        "currentState = Discrete(observation, tb) #Discretize the state\n",
        "action = np.argmax(tqt[currentState]) #Obtain the optimal action\n",
        "print(\"Observation:\", observation)\n",
        "print(\"Chosen action:\", action)\n",
        "tqt[currentState] #Get the Q values (based on observation space) of the current state, resulting Q values are the Q value if action 0 or 1 is taken in the current state."
      ]
    },
    {
      "cell_type": "markdown",
      "source": [
        "**Analyze output** <br>\n",
        "As **19.97731342 > 19.97427837**, so we chose action 0 (by index). The decision of our agent is correct."
      ],
      "metadata": {
        "id": "hRf6NtArzYK3"
      }
    },
    {
      "cell_type": "markdown",
      "metadata": {
        "id": "AS7HQhx7KPWx"
      },
      "source": [
        "<div class=\"alert alert-block alert-info\"><h2>Task 2: Demonstrate the effectiveness of the RL agent\n",
        "For this task, we created two functions.</h2></div> \n",
        "<br><br>\n",
        "The first function *run_episode()* is to run one epsiode and return the cumulative reward obtained in that episode. \n",
        "<br><br>\n",
        "The second function *generate_results(size)* is to store the total cumulative reward from different episode ( a total of *size* episodes) into an array. That array will be returned by the function(which will be used for graph plotting) ."
      ]
    },
    {
      "cell_type": "code",
      "execution_count": 26,
      "metadata": {
        "id": "BkFtphI3KRte"
      },
      "outputs": [],
      "source": [
        "def run_episode(): #Run one episode\n",
        "  done = False\n",
        "  env = gym.make(\"CartPole-v1\")\n",
        "  currentState = Discrete(env.reset(), tb) #Discretize the initial state\n",
        "  cum_score = 0\n",
        "  while not done:\n",
        "    action = np.argmax(tqt[currentState]) #Exploitation: Get action that cause the current state to have maximum Q-Value\n",
        "    observation, reward, done, info = env.step(action) #Perform the action and obtain the relevant information\n",
        "    currentState = Discrete(observation, tb) #Discretize the state\n",
        "    cum_score += reward #Add reward to cumulative reward in every step \n",
        "\n",
        "  return cum_score #Return the cumulative reward for this episode"
      ]
    },
    {
      "cell_type": "code",
      "execution_count": 27,
      "metadata": {
        "id": "DlFfMNo7KUdA"
      },
      "outputs": [],
      "source": [
        "def generate_results(size): #Run \"size\" times of episode and store the cumulative reward into an array\n",
        "    scoreArrayOfEachEpisode = []\n",
        "    for i in range(size): \n",
        "      scoreArrayOfEachEpisode.append(run_episode()) #Add the cumulative reward into the array\n",
        "    return scoreArrayOfEachEpisode #Return the array"
      ]
    },
    {
      "cell_type": "markdown",
      "metadata": {
        "id": "L8QGBQqXKaad"
      },
      "source": [
        "## Plot\n",
        "For this task, we generated 100 eopisodes and save the cumulative rewards in *episode_results*. We then plot *episode_results* on a graph to analyze our agent's average performance"
      ]
    },
    {
      "cell_type": "code",
      "execution_count": 28,
      "metadata": {
        "id": "GCeZeHZjKbgS",
        "colab": {
          "base_uri": "https://localhost:8080/",
          "height": 295
        },
        "outputId": "b737b452-990d-4093-b7e0-b88a48a01962"
      },
      "outputs": [
        {
          "output_type": "display_data",
          "data": {
            "text/plain": [
              "<Figure size 432x288 with 1 Axes>"
            ],
            "image/png": "[encoded data removed]"
          },
          "metadata": {
            "needs_background": "light"
          }
        }
      ],
      "source": [
        "episode_results = generate_results(100) #Generate results for 100 episodes\n",
        "plt.plot(episode_results)\n",
        "plt.title('Cumulative reward for each episode')\n",
        "plt.ylabel('Cumulative reward')\n",
        "plt.xlabel('episode')\n",
        "plt.show()"
      ]
    },
    {
      "cell_type": "code",
      "execution_count": 29,
      "metadata": {
        "id": "idPqjC9lKfW7",
        "colab": {
          "base_uri": "https://localhost:8080/"
        },
        "outputId": "bb0c1b73-1a5d-4b9e-8331-43bb6d17bd4b"
      },
      "outputs": [
        {
          "output_type": "stream",
          "name": "stdout",
          "text": [
            "Average cumulative reward: 498.62\n",
            "Is my agent good enough? True\n"
          ]
        }
      ],
      "source": [
        "mean = np.mean(episode_results) #Calculate mean cumulative reward\n",
        "print(\"Average cumulative reward:\", mean)\n",
        "print(\"Is my agent good enough?\", mean> 195)"
      ]
    },
    {
      "cell_type": "markdown",
      "source": [
        "### **Analyze output**\n",
        "Graph of Cumulative Reward aginst Episodes shows some variation with\n",
        "some low cumulative rewards while majority attained 500 points(maximum cumulative reward). \n",
        "<br><br>\n",
        "This result could be due to the randomness of the starting state and because some of the Qtable values could suffer from overestimation bias (approximates maximum action value using maximum estimated action value)"
      ],
      "metadata": {
        "id": "IxoSqeNUzR8V"
      }
    },
    {
      "cell_type": "markdown",
      "metadata": {
        "id": "BuuEhhDtKm36"
      },
      "source": [
        "<div class=\"alert alert-block alert-info\"><h2>Task 3: Render one episode played by the agent</h2></div>"
      ]
    },
    {
      "cell_type": "markdown",
      "source": [
        "One episode played by the developed Q-Learning agent is rendered"
      ],
      "metadata": {
        "id": "p11R_5FkyTRD"
      }
    },
    {
      "cell_type": "code",
      "execution_count": 30,
      "metadata": {
        "id": "fwEUYVElKoSt",
        "colab": {
          "base_uri": "https://localhost:8080/",
          "height": 494
        },
        "outputId": "bdbea739-c914-44dd-b6e4-4f639c29246a"
      },
      "outputs": [
        {
          "output_type": "stream",
          "name": "stderr",
          "text": [
            "/usr/local/lib/python3.9/dist-packages/gym/utils/passive_env_checker.py:241: DeprecationWarning: `np.bool8` is a deprecated alias for `np.bool_`.  (Deprecated NumPy 1.24)\n",
            "  if not isinstance(terminated, (bool, np.bool8)):\n"
          ]
        },
        {
          "output_type": "stream",
          "name": "stdout",
          "text": [
            "Cumulative Score =  500.0\n"
          ]
        },
        {
          "output_type": "display_data",
          "data": {
            "text/plain": [
              "<IPython.core.display.HTML object>"
            ],
            "text/html": [
              "<video alt=\"test\" autoplay \n",
              "                loop controls style=\"height: 400px;\">\n",
              "                <source src=\"data:video/mp4;base64,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\" type=\"video/mp4\" />\n",
              "             </video>"
            ]
          },
          "metadata": {}
        }
      ],
      "source": [
        "done = False\n",
        "env = RecordVideo(gym.make(\"CartPole-v1\", new_step_api=True), \"./video\")\n",
        "currentState = Discrete(env.reset(), tb)\n",
        "cum_score = 0\n",
        "while not done: \n",
        "  env.render()\n",
        "  action = np.argmax(tqt[currentState]) #Exploitation: Get optimal action that results in maximum Q-Value\n",
        "  observation, reward, done, info = env.step(action) #Plug in the action to the agent\n",
        "  currentState = Discrete(observation,tb) #Discretize the state\n",
        "  cum_score += reward #Add reward to cumulative score in every step \n",
        "print(\"Cumulative Score = \", cum_score) #Print out the cumulative score\n",
        "env.close()\n",
        "show_video() #Display the video"
      ]
    },
    {
      "cell_type": "markdown",
      "source": [
        "### **Analyze output**\n",
        "As expected, the output is very good since we obtained close to the maximum score. \n",
        "\n",
        "The agent successfully balanced the pole, maintained its position to avoid ending the episode early, and survived for 500 episodes by selecting the correct actions."
      ],
      "metadata": {
        "id": "nFqz72pdzaeS"
      }
    }
  ],
  "metadata": {
    "colab": {
      "provenance": [],
      "include_colab_link": true
    },
    "kernelspec": {
      "display_name": "Python 3",
      "name": "python3"
    },
    "language_info": {
      "name": "python"
    },
    "accelerator": "TPU",
    "gpuClass": "standard"
  },
  "nbformat": 4,
  "nbformat_minor": 0
}